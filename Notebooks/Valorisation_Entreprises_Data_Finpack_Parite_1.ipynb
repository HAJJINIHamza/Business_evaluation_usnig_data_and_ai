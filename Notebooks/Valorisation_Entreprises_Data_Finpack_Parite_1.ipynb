{
 "cells": [
  {
   "attachments": {},
   "cell_type": "markdown",
   "metadata": {},
   "source": [
    "# **Valorisation des entreprises**"
   ]
  },
  {
   "attachments": {},
   "cell_type": "markdown",
   "metadata": {},
   "source": [
    "Dans ce travail nous allons se baser sur la dataset `Data_Finpack_V2` contenant les informations financières de plusieurs entreprises, pour développer un modèle de clustering pour les structurer en groupe, Les entreprises presentes dans chaque groupe s'appellent des comparables. "
   ]
  },
  {
   "attachments": {},
   "cell_type": "markdown",
   "metadata": {},
   "source": [
    "### **Importation des packages**"
   ]
  },
  {
   "cell_type": "code",
   "execution_count": null,
   "metadata": {},
   "outputs": [],
   "source": [
    "import pandas as pd\n",
    "import numpy as np\n",
    "import seaborn as sns\n",
    "import matplotlib.pyplot as plt\n",
    "import plotly.express as px\n",
    "import plotly.io as pio\n",
    "from sklearn.preprocessing import  LabelEncoder\n",
    "from sklearn.cluster import KMeans \n",
    "from sklearn.metrics import silhouette_score\n",
    "from sklearn.preprocessing import StandardScaler, MinMaxScaler, RobustScaler\n",
    "from sklearn.decomposition import PCA\n",
    "from sklearn.feature_extraction.text import TfidfVectorizer\n",
    "from copy import deepcopy\n",
    "import pickle\n"
   ]
  },
  {
   "attachments": {},
   "cell_type": "markdown",
   "metadata": {},
   "source": [
    "### **Importation de la base de données**"
   ]
  },
  {
   "cell_type": "code",
   "execution_count": null,
   "metadata": {},
   "outputs": [],
   "source": [
    "#Importation de la base de données\n",
    "data = pd.read_excel( 'Data Finpack V2/Data_Finpack_V2.xlsx' )\n",
    "print ('Taille de la base de donnes :', data.shape)"
   ]
  },
  {
   "cell_type": "code",
   "execution_count": null,
   "metadata": {},
   "outputs": [],
   "source": [
    "#Les 5 premières lignes de la base de données\n",
    "data.head()"
   ]
  },
  {
   "cell_type": "code",
   "execution_count": null,
   "metadata": {},
   "outputs": [],
   "source": [
    "#Ne pas Supprimer  la colonne efcode\n",
    "#data = data.drop(columns = 'Efcode', axis = 1)\n",
    "#data.shape"
   ]
  },
  {
   "cell_type": "code",
   "execution_count": null,
   "metadata": {},
   "outputs": [],
   "source": [
    "#Le nombre d'entreprise dans data\n",
    "print (''' Le nombre d'entreprise dans data est : ''', data['Company Name'].value_counts().count())"
   ]
  },
  {
   "attachments": {},
   "cell_type": "markdown",
   "metadata": {},
   "source": [
    "### **Nettoyage et préparation des données**"
   ]
  },
  {
   "attachments": {},
   "cell_type": "markdown",
   "metadata": {},
   "source": [
    "#### **Duplicates handling**"
   ]
  },
  {
   "cell_type": "code",
   "execution_count": null,
   "metadata": {},
   "outputs": [],
   "source": [
    "#Nombre de colonnes duppliquées\n",
    "print ('le nombre de colonnes duppliquées : ', data.T.duplicated().sum())"
   ]
  },
  {
   "cell_type": "code",
   "execution_count": null,
   "metadata": {},
   "outputs": [],
   "source": [
    "#Supression des colonnes duppliqués\n",
    "data = data.T.drop_duplicates()\n",
    "data = data.T\n",
    "print ('nombre de colonne duppliquées après supressions des colonne dupliquées est : ', data.T.duplicated().sum())"
   ]
  },
  {
   "cell_type": "code",
   "execution_count": null,
   "metadata": {},
   "outputs": [],
   "source": [
    "# Nombre de lignes duppliquées\n",
    "print ('Le nombre de lignes duppliquées : ', data.duplicated().sum())"
   ]
  },
  {
   "cell_type": "code",
   "execution_count": null,
   "metadata": {},
   "outputs": [],
   "source": [
    "#Suppression des lignes duppliquées\n",
    "data = data.drop_duplicates()\n",
    "print ('Nombre de lignes duppliquées aprés supression des lignes duppliquées : ', data.duplicated().sum())"
   ]
  },
  {
   "cell_type": "code",
   "execution_count": null,
   "metadata": {},
   "outputs": [],
   "source": [
    "print ('Taille de la data après nettoyage des données dupliquées', data.shape)"
   ]
  },
  {
   "cell_type": "code",
   "execution_count": null,
   "metadata": {},
   "outputs": [],
   "source": [
    "#data.to_excel('infront_data/Data_Infront.xlsx', index = False)"
   ]
  },
  {
   "attachments": {},
   "cell_type": "markdown",
   "metadata": {},
   "source": [
    "#### **Null values handling**"
   ]
  },
  {
   "cell_type": "code",
   "execution_count": null,
   "metadata": {},
   "outputs": [],
   "source": [
    "#Fonction pourcentage_valeurs_nulles input : (data) -----------output-----------> le pourcentage de valeurs nulles dans la data\n",
    "def pourcentage_valeurs_nulles (df):\n",
    "    nval = df.shape[0]*df.shape[1]\n",
    "    nnull = df.isnull().sum().sum()\n",
    "    return nnull*100 / nval "
   ]
  },
  {
   "cell_type": "code",
   "execution_count": null,
   "metadata": {},
   "outputs": [],
   "source": [
    "#Le nombre de valeurs nulles dans 'data' \n",
    "print ( pourcentage_valeurs_nulles(data), '%  de valeurs de <data> sont des valeurs nulles')"
   ]
  },
  {
   "cell_type": "code",
   "execution_count": null,
   "metadata": {},
   "outputs": [],
   "source": [
    "#Pour détecter les colonnes à supprimer:\n",
    "#Visualisation le pourcentage de valeurs nulles colonnes par colonnes\n",
    "pourcentage_na_colonne = data.isnull().sum() * 100 / data.shape[0]\n",
    "fig2 = px.bar ( x = data.columns, y = pourcentage_na_colonne, width = 2000, height = 600)\n",
    "fig2.update_layout( title = '% de valeurs nulles par colonne' , xaxis_title = 'Colonne', yaxis_title = 'Pourcentage de valeurs nulles' )\n",
    "fig2.show()"
   ]
  },
  {
   "cell_type": "code",
   "execution_count": null,
   "metadata": {},
   "outputs": [],
   "source": [
    "#Fonction visualiser_na (data) ------------output----------> heatmap des valeurs nulles de data\n",
    "def visualiser_na(data):\n",
    "    fig = px.imshow(data.isnull(), color_continuous_scale = 'plasma', width = 900, height = 700)\n",
    "    fig.show()"
   ]
  },
  {
   "cell_type": "code",
   "execution_count": null,
   "metadata": {},
   "outputs": [],
   "source": [
    "#Visualisation du heatmap des valeurs nulles\n",
    "fig1 = px.imshow(data.isnull(), color_continuous_scale = 'plasma', width = 2000, height = 700, labels = {\"x\": 'Colonnes', \"y\": 'Lingnes'} )\n",
    "fig1.update_layout ( title = 'Distribution des valeurs nulles dans la data' )\n",
    "fig1.show()"
   ]
  },
  {
   "cell_type": "code",
   "execution_count": null,
   "metadata": {},
   "outputs": [],
   "source": [
    "pio.write_image (fig1, 'Valeurs nulles distribution.png' )"
   ]
  },
  {
   "cell_type": "code",
   "execution_count": null,
   "metadata": {},
   "outputs": [],
   "source": [
    "#suppression de tout les lignes contenant des valeurs nulles\n",
    "data_test = data.dropna (axis = 0)\n",
    "print ('Nombre de valeurs nulles après suppression de tout les valeurs nulles :', data_test.isnull().sum().sum())\n",
    "print ('Si on supprime tout les lignes contenant des valeurs nulles, il nous resterait que ', data_test.shape[0], 'Lignes')\n"
   ]
  },
  {
   "cell_type": "code",
   "execution_count": null,
   "metadata": {},
   "outputs": [],
   "source": [
    "#Supprimons les colonnes contenant plus de pourcent de valeurs nulles\n",
    "pourcent = 35\n",
    "colonnes_a_supprimer = data.isnull().sum()*100/data.shape[0]\n",
    "colonnes_a_supprimer = colonnes_a_supprimer[colonnes_a_supprimer >= pourcent]\n",
    "print ('Nombre de colonnes à supprimées = ', colonnes_a_supprimer.count())"
   ]
  },
  {
   "cell_type": "code",
   "execution_count": null,
   "metadata": {},
   "outputs": [],
   "source": [
    "#Suppression des colonnes contenant plus de pourcent de valeurs nulles\n",
    "data_V1 = data.drop (colonnes_a_supprimer.index, axis = 1)\n",
    "print ('Nombre de colonnes supprimer : ', colonnes_a_supprimer.count())\n",
    "print ('Taille de data_V1 après suppression des colonnes contenant plus de' ,pourcent , '% de valeurs nulles', data_V1.shape)"
   ]
  },
  {
   "cell_type": "code",
   "execution_count": null,
   "metadata": {},
   "outputs": [],
   "source": [
    "data_V1.columns"
   ]
  },
  {
   "cell_type": "code",
   "execution_count": null,
   "metadata": {},
   "outputs": [],
   "source": [
    "#Supprimons les lignes contenant plus de pourcent_lign de valeurs nulles \n",
    "pourcent_ligne = 30\n",
    "pourcentage_na_ligne = data_V1.T.isnull().sum()*100/data_V1.shape[1]\n",
    "ligne_a_supprimer = pourcentage_na_ligne[pourcentage_na_ligne >= pourcent_ligne]\n",
    "print ('Nombre de lignes à supprimées = ', ligne_a_supprimer.count())"
   ]
  },
  {
   "attachments": {},
   "cell_type": "markdown",
   "metadata": {},
   "source": [
    "|!| \n",
    "--- "
   ]
  },
  {
   "attachments": {},
   "cell_type": "markdown",
   "metadata": {},
   "source": [
    "30% de valeurs nulles est changeable"
   ]
  },
  {
   "cell_type": "code",
   "execution_count": null,
   "metadata": {},
   "outputs": [],
   "source": [
    "#Suppressions de ces lignes\n",
    "data_V2 = data_V1.drop( ligne_a_supprimer.index, axis = 0 )\n",
    "print ('Nombre de lignes a supprimer :', ligne_a_supprimer.count() )\n",
    "print ('Taille de data_V2 après suppression des lignes contenant plus de ',pourcent_ligne,' de valeurs nulles', data_V2.shape)"
   ]
  },
  {
   "cell_type": "code",
   "execution_count": null,
   "metadata": {},
   "outputs": [],
   "source": [
    "#Suppression de la colonnes 'ISIN'\n",
    "data_V3 = data_V2.drop(['ISIN'], axis = 1)\n",
    "print ('taille de data_V3', data_V3.shape)"
   ]
  },
  {
   "cell_type": "code",
   "execution_count": null,
   "metadata": {},
   "outputs": [],
   "source": [
    "data_V3 = data_V2"
   ]
  },
  {
   "cell_type": "code",
   "execution_count": null,
   "metadata": {},
   "outputs": [],
   "source": [
    "#Visualiser les valeurs nulles de data_V3\n",
    "fig3 = px.imshow(data_V3.isnull(), color_continuous_scale = 'plasma', width = 1500, height = 700)\n",
    "fig3.show()"
   ]
  },
  {
   "cell_type": "code",
   "execution_count": null,
   "metadata": {},
   "outputs": [],
   "source": [
    "#Supressions des lignes ou 'Sector' est nulle parcequ'on ne peut pas remplacer ces lignes\n",
    "ligne_sector_a_supprimer = data_V3 [ data_V3['Sector'].isnull()].index\n",
    "data_V4 = data_V3.drop(ligne_sector_a_supprimer, axis = 0)\n",
    "print ('taille de data_V3 après suppression des entreprises dont on connait pas le secteur est', data_V4.shape )"
   ]
  },
  {
   "cell_type": "code",
   "execution_count": null,
   "metadata": {},
   "outputs": [],
   "source": [
    "#Remplacons les valeurs 'N/M', 'N/M+', 'N/M-' par des valeurs nulles \n",
    "data_V5 = data_V4.replace ( ['N/M', 'N/M+', 'N/M-'], np.nan )\n",
    "print (' Pourcentage na data_V4:', pourcentage_valeurs_nulles(data_V4))\n",
    "print (' Pourcentage na data_V5:', pourcentage_valeurs_nulles(data_V5))\n"
   ]
  },
  {
   "cell_type": "code",
   "execution_count": null,
   "metadata": {},
   "outputs": [],
   "source": [
    "#Resupression des lignes contenant plus de 20% de valeurs nulles \n",
    "pourcentage_valeurs_nulles_ligne = data_V5.T.isnull().sum()*100/data_V5.shape[1]\n",
    "lignes_a_supprimer =  pourcentage_valeurs_nulles_ligne [pourcentage_valeurs_nulles_ligne > 30]\n",
    "data_V6 = data_V5.drop( lignes_a_supprimer.index, axis = 0 )\n",
    "print ('Nombre de lignes a supprimer :', len(lignes_a_supprimer) )\n",
    "print ('taille de data_V6 :', data_V6.shape)"
   ]
  },
  {
   "cell_type": "code",
   "execution_count": null,
   "metadata": {},
   "outputs": [],
   "source": [
    "#suppression de tout les lignes contenant des valeurs nulles\n",
    "data_test = data_V6.dropna (axis = 0)\n",
    "print ('Nombre de valeurs nulles après suppression de tout les valeurs nulles :', data_test.isnull().sum().sum())\n",
    "print ('Si on supprime tout les lignes contenant des valeurs nulles, il nous resterait que ', data_test.shape[0], 'Lignes')"
   ]
  },
  {
   "attachments": {},
   "cell_type": "markdown",
   "metadata": {},
   "source": [
    "|!|\n",
    "---"
   ]
  },
  {
   "attachments": {},
   "cell_type": "markdown",
   "metadata": {},
   "source": [
    "`Dans un premièr temps nous allons supprimer tout les valeurs nulles (Tout ligne contenant une valeur nulle va etre supprimer), et appliquer le clustering\n",
    "Puis dans un deuxième temps nous allons les remplacer d'autre valeurs.`"
   ]
  },
  {
   "attachments": {},
   "cell_type": "markdown",
   "metadata": {},
   "source": [
    "|!|\n",
    "---"
   ]
  },
  {
   "cell_type": "code",
   "execution_count": null,
   "metadata": {},
   "outputs": [],
   "source": [
    "#Supression de tout les valeurs nulles\n",
    "data_V7 = data_V6.dropna (axis = 0)\n",
    "print ('Taille de data_V7 : ', data_V7.shape)\n",
    "print ('Pourcentage de valeur nulle dans data_V7 : ', pourcentage_valeurs_nulles(data_V7))"
   ]
  },
  {
   "cell_type": "code",
   "execution_count": null,
   "metadata": {},
   "outputs": [],
   "source": [
    "data_V7.columns"
   ]
  },
  {
   "cell_type": "code",
   "execution_count": null,
   "metadata": {},
   "outputs": [],
   "source": [
    "#Extraction de la data après suppression de tout les valeurs nulles\n",
    "data_V7.to_excel ( 'Data Finpack V2/Data_Finpack_V2_sans_na.xlsx', index = True )"
   ]
  },
  {
   "cell_type": "code",
   "execution_count": null,
   "metadata": {},
   "outputs": [],
   "source": [
    "#Suppression de data_V7 de la mémoire \n",
    "#del data_V7"
   ]
  }
 ],
 "metadata": {
  "kernelspec": {
   "display_name": "Python 3",
   "language": "python",
   "name": "python3"
  },
  "language_info": {
   "codemirror_mode": {
    "name": "ipython",
    "version": 3
   },
   "file_extension": ".py",
   "mimetype": "text/x-python",
   "name": "python",
   "nbconvert_exporter": "python",
   "pygments_lexer": "ipython3",
   "version": "3.10.7"
  },
  "orig_nbformat": 4
 },
 "nbformat": 4,
 "nbformat_minor": 2
}
