{
 "cells": [
  {
   "attachments": {},
   "cell_type": "markdown",
   "metadata": {},
   "source": [
    "#### **Outliers handling**"
   ]
  },
  {
   "cell_type": "code",
   "execution_count": null,
   "metadata": {},
   "outputs": [],
   "source": [
    "data_V7 = pd.read_excel ('Data Finpack V2/data_finpack_V2_sans_na.xlsx', index_col = 0)\n",
    "data_V7"
   ]
  },
  {
   "cell_type": "code",
   "execution_count": null,
   "metadata": {},
   "outputs": [],
   "source": [
    "data_V7.describe()"
   ]
  },
  {
   "cell_type": "code",
   "execution_count": null,
   "metadata": {},
   "outputs": [],
   "source": [
    "#Les colonnes de type object\n",
    "object_columns = data_V7.describe().columns"
   ]
  },
  {
   "cell_type": "code",
   "execution_count": null,
   "metadata": {},
   "outputs": [],
   "source": [
    "#Visualisation des outliers colonne par colonne\n",
    "for column in object_columns:\n",
    "    fig = px.box (x = data_V7[ column ])\n",
    "    fig.update_layout ( xaxis_title = column )\n",
    "    fig.show()"
   ]
  },
  {
   "cell_type": "code",
   "execution_count": null,
   "metadata": {},
   "outputs": [],
   "source": [
    "object_columns"
   ]
  },
  {
   "attachments": {},
   "cell_type": "markdown",
   "metadata": {},
   "source": [
    "Il y a une valeur anormale 6.22 * 10^16 dans la dataframe que nous allons supprimées."
   ]
  },
  {
   "cell_type": "code",
   "execution_count": null,
   "metadata": {},
   "outputs": [],
   "source": [
    "#Supression de tout les lignes contenant la valeurs 6.22 * 10^16\n",
    "valeur_anormale1 = max ( data_V7['Net Debt / EBITDA (x) - Last'] )\n",
    "valeur_anormale2 = min ( data_V7['Net Debt / EBITDA (x) - Last'] )\n",
    "#la fonction eq (valeur) nous permet de trouver valeur dans la data  \n",
    "data_V8 = data_V7.drop( data_V7[data_V7.eq(valeur_anormale1).any(axis = 1)].index )\n",
    "data_V9 = data_V8.drop( data_V8[data_V8.eq(valeur_anormale2).any(axis = 1)].index )\n",
    "print ('Nombre de lignes supprimées est :', data_V7.shape[0] - data_V9.shape[0])"
   ]
  },
  {
   "cell_type": "code",
   "execution_count": null,
   "metadata": {},
   "outputs": [],
   "source": [
    "print ('taille de data_V9 (data après nettoyage des valeurs nulles et des outliers)', data_V9.shape)"
   ]
  },
  {
   "cell_type": "code",
   "execution_count": null,
   "metadata": {},
   "outputs": [],
   "source": [
    "data_V9.columns"
   ]
  },
  {
   "cell_type": "code",
   "execution_count": null,
   "metadata": {},
   "outputs": [],
   "source": [
    "#Suppression d'autres outiliers\n",
    "data_V9_ = data_V9.drop ( data_V9 [ data_V9['Days in Inventory - Last'] == max (data_V9['Days in Inventory - Last']) ].index )\n",
    "data_V9_ = data_V9_.drop ( data_V9_ [ data_V9_['Days in acc. Pay. - Last'] == max (data_V9_['Days in acc. Pay. - Last']) ].index )\n",
    "data_V9_ = data_V9_.drop ( data_V9_ [ data_V9_['Days in Receiv. - Last'] == max (data_V9_['Days in Receiv. - Last']) ].index )\n",
    "data_V9_ = data_V9_.drop ( data_V9_ [ data_V9_['Days in Receiv. - Last'] == max (data_V9_['Days in Receiv. - Last']) ].index )\n",
    "data_V9_ = data_V9_.drop ( data_V9_ [ data_V9_['Current Ratio (%) - Last'] == max (data_V9_['Current Ratio (%) - Last']) ].index )\n",
    "data_V9_ = data_V9_.drop ( data_V9_ [ data_V9_['Current Ratio (%) - Last'] == max (data_V9_['Current Ratio (%) - Last']) ].index )\n",
    "data_V9_ = data_V9_.drop ( data_V9_ [ data_V9_['Net Debt / EBITDA (x) - Last'] == min (data_V9_['Net Debt / EBITDA (x) - Last']) ].index )"
   ]
  },
  {
   "cell_type": "code",
   "execution_count": null,
   "metadata": {},
   "outputs": [],
   "source": [
    "#Visualisation des outliers colonne par colonne\n",
    "for column in object_columns:\n",
    "    fig = px.box (x = data_V9_[ column ])\n",
    "    fig.update_layout ( xaxis_title = column )\n",
    "    fig.show()"
   ]
  },
  {
   "cell_type": "code",
   "execution_count": null,
   "metadata": {},
   "outputs": [],
   "source": [
    "print ( 'taille de la data après suppression des na et des outliers est ', data_V9_.shape )"
   ]
  },
  {
   "cell_type": "code",
   "execution_count": null,
   "metadata": {},
   "outputs": [],
   "source": [
    "#Extraction de la data_V9\n",
    "data_V9_.to_excel('Data Finpack V2/data_finpack_V2_sans_na_sans_Out.xlsx', index = True)"
   ]
  },
  {
   "attachments": {},
   "cell_type": "markdown",
   "metadata": {},
   "source": [
    "#### **Codage des colonnes**"
   ]
  },
  {
   "cell_type": "code",
   "execution_count": null,
   "metadata": {},
   "outputs": [],
   "source": [
    "data.Country.value_counts()"
   ]
  },
  {
   "cell_type": "code",
   "execution_count": null,
   "metadata": {},
   "outputs": [],
   "source": [
    "#Data_V9\n",
    "data_V9 = pd.read_excel('Data Finpack V2/data_finpack_V2_sans_na_sans_out.xlsx', index_col = 0)\n",
    "data_V9"
   ]
  },
  {
   "cell_type": "code",
   "execution_count": null,
   "metadata": {},
   "outputs": [],
   "source": [
    "#La colonne Company name ne contient aucune valeur ajoutée au model on va la laisser à part\n",
    "Company_Name = data_V9['Company Name']\n",
    "#Extaction du nom, secteur, pays de l'entreprise\n",
    "company_sector_country = data_V9[ ['Efcode', 'Company Name', 'Sector', 'Country'] ]\n",
    "data_V10= data_V9.drop ( [ 'Company Name', 'isActive'], axis = 1 )\n",
    "data_V10.shape "
   ]
  },
  {
   "cell_type": "code",
   "execution_count": null,
   "metadata": {},
   "outputs": [],
   "source": [
    "#Changement des noms des colonnes\n",
    "company_sector_country = company_sector_country.rename(columns = {'Sector': 'Sector_Original', 'Country': 'Country_Original' } )\n",
    "company_sector_country"
   ]
  },
  {
   "cell_type": "code",
   "execution_count": null,
   "metadata": {},
   "outputs": [],
   "source": [
    "company_sector_country.to_excel( 'Data Finpack/company_sector_country_V2.xlsx' )"
   ]
  },
  {
   "cell_type": "code",
   "execution_count": null,
   "metadata": {},
   "outputs": [],
   "source": [
    "data_V10"
   ]
  },
  {
   "cell_type": "code",
   "execution_count": null,
   "metadata": {},
   "outputs": [],
   "source": [
    "#Fitting des deux encodeurs\n",
    "country_encoder = LabelEncoder().fit ( data_V10['Country'] )\n",
    "sector_encoder = LabelEncoder().fit ( data_V10['Sector'] )"
   ]
  },
  {
   "cell_type": "code",
   "execution_count": null,
   "metadata": {},
   "outputs": [],
   "source": [
    "#Nous allons encoder les deux colonnes Country et Sector\n",
    "data_V11 = deepcopy (data_V10)\n",
    "data_V11['Country'] = country_encoder.transform(data_V10['Country'] )\n",
    "data_V11['Sector'] = sector_encoder.transform( data_V10['Sector'] )\n",
    "data_V11"
   ]
  },
  {
   "cell_type": "code",
   "execution_count": null,
   "metadata": {},
   "outputs": [],
   "source": [
    "#Extraction des encodeurs\n",
    "with open ( 'Models_V2/country_encoder.pkl', 'wb' ) as f:\n",
    "    pickle.dump ( country_encoder, f )\n",
    "with open ( 'Models_V2/sector_encoder.pkl', 'wb' ) as f:\n",
    "    pickle.dump ( sector_encoder, f )"
   ]
  },
  {
   "cell_type": "code",
   "execution_count": null,
   "metadata": {},
   "outputs": [],
   "source": [
    "#La colonne description \n",
    "colonne_description = data_V11[['Efcode', 'Description']]\n",
    "colonne_description.to_excel ('Data Finpack V2/colonne_description_V2.xlsx')"
   ]
  },
  {
   "cell_type": "code",
   "execution_count": null,
   "metadata": {},
   "outputs": [],
   "source": [
    "#La version originale et la version encoder des colonnes Country et Sector\n",
    "pd.concat ( [data_V9['Country'], data_V11['Country'], data_V9['Sector'], data_V11['Sector'] ], axis = 1 )"
   ]
  },
  {
   "attachments": {},
   "cell_type": "markdown",
   "metadata": {},
   "source": [
    "#### **Normalisation**"
   ]
  },
  {
   "cell_type": "code",
   "execution_count": null,
   "metadata": {},
   "outputs": [],
   "source": [
    "#Enlever la colonne description et Efcode\n",
    "#data_V12 = data_V11.drop (['Efcode', 'Description'], axis = 1)\n",
    "data_V12 = data_V11 [['Sector', 'Country', 'EBITDA - Last', 'EBITDA Marg. (%) - Last']]\n",
    "data_V12"
   ]
  },
  {
   "attachments": {},
   "cell_type": "markdown",
   "metadata": {},
   "source": [
    "`**Le Robuste Scaling**` est une méthode de normalisation des données qui est robuste aux valeurs aberrantes. Contrairement à la méthode Min-Max Scaling qui est sensible aux valeurs extrêmes, le Robuste Scaling ne prend pas en compte les valeurs aberrantes lors de la normalisation des données.\n",
    "La méthode Robuste Scaling utilise la médiane et l'écart interquartile (IQR) des données pour mettre à l'échelle les variables. L'écart interquartile est la différence entre le troisième et le premier quartile des données. La formule pour calculer les données normalisées en utilisant le Robuste Scaling est la suivante :\n",
    "|`x_scaled = (x - median(x)) / IQR(x)`|\n",
    "---------------------------------------"
   ]
  },
  {
   "cell_type": "code",
   "execution_count": null,
   "metadata": {},
   "outputs": [],
   "source": [
    "#Entrainnement du normalizeur\n",
    "normalizeur = RobustScaler ().fit ( data_V12 )"
   ]
  },
  {
   "cell_type": "code",
   "execution_count": null,
   "metadata": {},
   "outputs": [],
   "source": [
    "#Normalisation des données \n",
    "data_V12_Norm = normalizeur.transform(data_V12)\n",
    "data_V12_Norm = pd.DataFrame( data_V12_Norm, columns = data_V12.columns, index = data_V12.index )\n",
    "data_V12_Norm.head()"
   ]
  },
  {
   "cell_type": "code",
   "execution_count": null,
   "metadata": {},
   "outputs": [],
   "source": [
    "#Enregistrement du normalizeur\n",
    "with open ( 'Models_V2/normalizeur.pkl', 'wb' )  as f :\n",
    "    pickle.dump ( normalizeur, f )"
   ]
  },
  {
   "cell_type": "code",
   "execution_count": null,
   "metadata": {},
   "outputs": [],
   "source": [
    "data_V12_Norm.describe()"
   ]
  },
  {
   "cell_type": "code",
   "execution_count": null,
   "metadata": {},
   "outputs": [],
   "source": [
    "data_V13 = pd.concat  ( [company_sector_country, colonne_description['Description'] ], axis = 1 )\n",
    "data_V13 = pd.concat ( [data_V13, data_V12_Norm], axis = 1 )\n",
    "data_V13"
   ]
  },
  {
   "cell_type": "code",
   "execution_count": null,
   "metadata": {},
   "outputs": [],
   "source": [
    "#Les deux colonnes ROA - last et ROA - Last.1 se répettent on supprime ROA - Last.1\n",
    "data.V14 = data_V13.drop ( ['ROA - Last.1'], axis = 1 )"
   ]
  },
  {
   "cell_type": "code",
   "execution_count": null,
   "metadata": {},
   "outputs": [],
   "source": [
    "data_V13.to_excel( 'Data Finpack V2/data_finpack_V2_sans_na_sans_out_normlizées.xlsx' )"
   ]
  }
 ],
 "metadata": {
  "language_info": {
   "name": "python"
  },
  "orig_nbformat": 4
 },
 "nbformat": 4,
 "nbformat_minor": 2
}
